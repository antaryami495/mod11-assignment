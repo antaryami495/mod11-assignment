{
 "cells": [
  {
   "cell_type": "code",
   "execution_count": 20,
   "id": "2b0cd5e1-90ec-43dd-aed2-3623f41a0cd3",
   "metadata": {},
   "outputs": [
    {
     "data": {
      "text/plain": [
       "[('Virat Kohli', 24936),\n",
       " ('Jack Kallis', 25534),\n",
       " ('Ricky Ponting', 27483),\n",
       " ('Sachin Tendulkar', 34357)]"
      ]
     },
     "execution_count": 20,
     "metadata": {},
     "output_type": "execute_result"
    }
   ],
   "source": [
    "#   Q1. Create a python program to sort the given list of tuples based on integer value using a\n",
    "#   lambda function.\n",
    "#   [('Sachin Tendulkar', 34357), ('Ricky Ponting', 27483), ('Jack Kallis', 25534), ('Virat Kohli', 24936)]\n",
    "\n",
    "\n",
    "#   ANSWER-->\n",
    "\n",
    "l=[('Sachin Tendulkar', 34357), ('Ricky Ponting', 27483), ('Jack Kallis', 25534), ('Virat Kohli', 24936)]\n",
    "s=sorted(l,key = lambda x : x[1])\n",
    "s"
   ]
  },
  {
   "cell_type": "code",
   "execution_count": 21,
   "id": "9ef0d68a-1256-4d23-8454-cca3481ef599",
   "metadata": {},
   "outputs": [
    {
     "data": {
      "text/plain": [
       "[1, 4, 9, 16, 25, 36, 49, 64, 81, 100]"
      ]
     },
     "execution_count": 21,
     "metadata": {},
     "output_type": "execute_result"
    }
   ],
   "source": [
    "#    Q2. Write a Python Program to find the squares of all the numbers in the given list of integers using\n",
    "#    lambda and map functions.\n",
    "#    [1, 2, 3, 4, 5, 6, 7, 8, 9, 10]\n",
    "\n",
    "#    ANSWER-->\n",
    "l1=[1, 2, 3, 4, 5, 6, 7, 8, 9, 10]\n",
    "l11=list(map(lambda x : x**2,l1))\n",
    "l11"
   ]
  },
  {
   "cell_type": "code",
   "execution_count": 22,
   "id": "e0ebca01-170f-41a8-a5c8-7a3cd909923d",
   "metadata": {},
   "outputs": [
    {
     "data": {
      "text/plain": [
       "('1', '2', '3', '4', '5', '6', '7', '8', '9', '10')"
      ]
     },
     "execution_count": 22,
     "metadata": {},
     "output_type": "execute_result"
    }
   ],
   "source": [
    "#   Q3. Write a python program to convert the given list of integers into a tuple of strings. Use map and\n",
    "#   lambda functions\n",
    "#   Given String: [1, 2, 3, 4, 5, 6, 7, 8, 9, 10]\n",
    "#   Expected output: ('1', '2', '3', '4', '5', '6', '7', '8', '9', '10')\n",
    "\n",
    "#   ANSWER-->\n",
    "l2=[1, 2, 3, 4, 5, 6, 7, 8, 9, 10]\n",
    "l22=tuple(map(lambda x : str(x) ,l2)) \n",
    "l22"
   ]
  },
  {
   "cell_type": "code",
   "execution_count": 23,
   "id": "b8e2d4b2-c2a8-460b-8b4b-a90973918b49",
   "metadata": {},
   "outputs": [
    {
     "data": {
      "text/plain": [
       "325"
      ]
     },
     "execution_count": 23,
     "metadata": {},
     "output_type": "execute_result"
    }
   ],
   "source": [
    "#   Q4. Write a python program using reduce function to compute the product of a list containing numbers\n",
    "#   from 1 to 25.\n",
    "\n",
    "#   ANSWER-->\n",
    "from functools import reduce\n",
    "l3=list(range(1,26))\n",
    "reduce(lambda x,y : x+y , l3)"
   ]
  },
  {
   "cell_type": "code",
   "execution_count": 24,
   "id": "204e5bd4-6478-4e03-9fa8-be731be36a71",
   "metadata": {},
   "outputs": [
    {
     "data": {
      "text/plain": [
       "[6, 60, 90, 120]"
      ]
     },
     "execution_count": 24,
     "metadata": {},
     "output_type": "execute_result"
    }
   ],
   "source": [
    "#  Q5. Write a python program to filter the numbers in a given list that are divisible by 2 and 3 using the\n",
    "#  filter function.\n",
    "#  [2, 3, 6, 9, 27, 60, 90, 120, 55, 46]\n",
    "\n",
    "#  ANSWER-->\n",
    "l4=[2, 3, 6, 9, 27, 60, 90, 120, 55, 46]\n",
    "l44=list(filter(lambda x : x%2 ==0 and x%3==0,l4))\n",
    "l44"
   ]
  },
  {
   "cell_type": "code",
   "execution_count": 27,
   "id": "2957d673-959c-4883-8207-9059ab07aa86",
   "metadata": {},
   "outputs": [
    {
     "data": {
      "text/plain": [
       "['php', 'aba', 'radar', 'level']"
      ]
     },
     "execution_count": 27,
     "metadata": {},
     "output_type": "execute_result"
    }
   ],
   "source": [
    "#  Q6. Write a python program to find palindromes in the given list of strings using lambda and filter\n",
    "#  function.\n",
    "#  ['python', 'php', 'aba', 'radar', 'level']\n",
    "\n",
    "#  ANSWER-->\n",
    "l5=['python', 'php', 'aba', 'radar', 'level']\n",
    "l55=list(filter(lambda x : (x == \"\".join(reversed(x))),l5))\n",
    "l55"
   ]
  },
  {
   "cell_type": "code",
   "execution_count": null,
   "id": "efeab749-fbba-4b4b-b120-7b138dbf6aa3",
   "metadata": {},
   "outputs": [],
   "source": []
  },
  {
   "cell_type": "code",
   "execution_count": null,
   "id": "74b13af9-6261-414a-ad91-8a835b00e5fd",
   "metadata": {},
   "outputs": [],
   "source": []
  }
 ],
 "metadata": {
  "kernelspec": {
   "display_name": "Python 3 (ipykernel)",
   "language": "python",
   "name": "python3"
  },
  "language_info": {
   "codemirror_mode": {
    "name": "ipython",
    "version": 3
   },
   "file_extension": ".py",
   "mimetype": "text/x-python",
   "name": "python",
   "nbconvert_exporter": "python",
   "pygments_lexer": "ipython3",
   "version": "3.10.8"
  }
 },
 "nbformat": 4,
 "nbformat_minor": 5
}
